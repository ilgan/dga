{
 "cells": [
  {
   "cell_type": "markdown",
   "metadata": {},
   "source": [
    "References:\n",
    "https://www.kaggle.com/slashtea/domain-generation-algorithm?select=words.txt\n",
    "https://splunkbase.splunk.com/app/3559/#/details\n",
    "Cisco Database: http://s3-us-west-1.amazonaws.com/umbrella-static/index.html"
   ]
  },
  {
   "cell_type": "code",
   "execution_count": 91,
   "metadata": {},
   "outputs": [],
   "source": [
    "import pandas as pd\n",
    "import numpy as np"
   ]
  },
  {
   "cell_type": "markdown",
   "metadata": {},
   "source": [
    "1. Data Exploration"
   ]
  },
  {
   "cell_type": "markdown",
   "metadata": {},
   "source": [
    "Reading and cleaning the data into the usable format"
   ]
  },
  {
   "cell_type": "code",
   "execution_count": 92,
   "metadata": {},
   "outputs": [],
   "source": [
    "words_loc = \"archive/words.txt\"\n",
    "top_1m_loc = \"archive/top-1m.csv\"\n",
    "dga_project_top_1m_loc = \"archive/dga_project_top-1m.csv\"\n",
    "dga_project_dga_domain_list_clean_loc = \"archive/dga_project_dga_domain_list_clean.txt\""
   ]
  },
  {
   "cell_type": "code",
   "execution_count": 93,
   "metadata": {},
   "outputs": [
    {
     "name": "stdout",
     "output_type": "stream",
     "text": [
      "   rating       domain label\n",
      "0       1   google.com  real\n",
      "1       2  youtube.com  real\n",
      "2       3    tmall.com  real\n",
      "3       4    baidu.com  real\n",
      "4       5       qq.com  real\n",
      "491987\n"
     ]
    }
   ],
   "source": [
    "dga_project_top_1m = pd.read_csv(dga_project_top_1m_loc, names=[\"rating\", \"domain\"])\n",
    "dga_project_top_1m[\"label\"] = \"real\"\n",
    "\n",
    "print(dga_project_top_1m.head())\n",
    "print(len(dga_project_top_1m))"
   ]
  },
  {
   "cell_type": "code",
   "execution_count": 94,
   "metadata": {},
   "outputs": [
    {
     "name": "stdout",
     "output_type": "stream",
     "text": [
      "   rating       domain label subclasses\n",
      "0       1   google.com  real       real\n",
      "1       2  youtube.com  real       real\n",
      "2       3    tmall.com  real       real\n",
      "3       4       qq.com  real       real\n",
      "4       5    baidu.com  real       real\n",
      "694787\n"
     ]
    }
   ],
   "source": [
    "top_1m = pd.read_csv(top_1m_loc, names=[\"rating\", \"domain\"])\n",
    "top_1m[\"label\"] = \"real\"\n",
    "top_1m[\"subclasses\"] = \"real\"\n",
    "\n",
    "print(top_1m.head())\n",
    "print(len(top_1m))"
   ]
  },
  {
   "cell_type": "code",
   "execution_count": 95,
   "metadata": {},
   "outputs": [],
   "source": [
    "words = open(words_loc, \"r\")\n",
    "words = words.read()\n",
    "words = words.split()\n",
    "\n",
    "dga_project_dga_domain_list_clean = open(dga_project_dga_domain_list_clean_loc, \"r\")\n",
    "dga_project_dga_domain_list_clean = dga_project_dga_domain_list_clean.read()\n",
    "dga_project_dga_domain_list_clean = dga_project_dga_domain_list_clean.split()\n"
   ]
  },
  {
   "cell_type": "code",
   "execution_count": 96,
   "metadata": {},
   "outputs": [
    {
     "name": "stdout",
     "output_type": "stream",
     "text": [
      "['2', '1080', '&c', '10-point', '10th']\n",
      "466550\n",
      "['nymaim', 'vvqbhhwma.org', '2021-05-11', '00:00:00', '2021-05-11', '23:59:59', 'nymaim', 'cfhauqbaz.com', '2021-05-11', '00:00:00']\n",
      "8428752\n"
     ]
    }
   ],
   "source": [
    "print(words[:5])\n",
    "print(len(words))\n",
    "print(dga_project_dga_domain_list_clean[:10])\n",
    "print(len(dga_project_dga_domain_list_clean))"
   ]
  },
  {
   "cell_type": "code",
   "execution_count": 97,
   "metadata": {},
   "outputs": [
    {
     "name": "stdout",
     "output_type": "stream",
     "text": [
      "['vvqbhhwma.org', 'cfhauqbaz.com', 'bvxjsbkqu.biz', 'hggazskvkdy.com', 'xgoqyxgfgm.com']\n",
      "['nymaim', 'nymaim', 'nymaim', 'nymaim', 'nymaim']\n"
     ]
    }
   ],
   "source": [
    "dga_domain = dga_project_dga_domain_list_clean[1::6]\n",
    "print(dga_domain[:5])\n",
    "\n",
    "dga_domain_subclasses = dga_project_dga_domain_list_clean[::6]\n",
    "print(dga_domain_subclasses[:5])"
   ]
  },
  {
   "cell_type": "markdown",
   "metadata": {},
   "source": [
    "Creating a dataset with labels.\n",
    "We will combine \"top_1m\" with label 0 (not dga) and \"dga_project_dga_domain_list_clean_domains\" with the label 1 (dga).\n",
    "Two rows: name, label"
   ]
  },
  {
   "cell_type": "markdown",
   "metadata": {},
   "source": [
    "Combining feature matrix and Labels matrix"
   ]
  },
  {
   "cell_type": "code",
   "execution_count": 98,
   "metadata": {},
   "outputs": [
    {
     "name": "stdout",
     "output_type": "stream",
     "text": [
      "            domain subclasses label rating\n",
      "0    vvqbhhwma.org     nymaim  fake   None\n",
      "1    cfhauqbaz.com     nymaim  fake   None\n",
      "2    bvxjsbkqu.biz     nymaim  fake   None\n",
      "3  hggazskvkdy.com     nymaim  fake   None\n",
      "4   xgoqyxgfgm.com     nymaim  fake   None\n"
     ]
    }
   ],
   "source": [
    "fake_domains = pd.DataFrame()\n",
    "fake_domains[\"domain\"] = dga_domain\n",
    "fake_domains[\"subclasses\"] = dga_domain_subclasses\n",
    "fake_domains[\"label\"] = \"fake\"\n",
    "fake_domains[\"rating\"] = None\n",
    "print(fake_domains.head())"
   ]
  },
  {
   "cell_type": "code",
   "execution_count": 99,
   "metadata": {},
   "outputs": [
    {
     "name": "stdout",
     "output_type": "stream",
     "text": [
      "            domain subclasses label rating\n",
      "0    vvqbhhwma.org     nymaim  fake   None\n",
      "1    cfhauqbaz.com     nymaim  fake   None\n",
      "2    bvxjsbkqu.biz     nymaim  fake   None\n",
      "3  hggazskvkdy.com     nymaim  fake   None\n",
      "4   xgoqyxgfgm.com     nymaim  fake   None\n",
      "1404792\n",
      "694787\n",
      "2099579\n",
      "2099579\n"
     ]
    }
   ],
   "source": [
    "data = pd.concat([fake_domains, top_1m], ignore_index=True)\n",
    "print(data.head())\n",
    "print(len(fake_domains))\n",
    "print(len(top_1m))\n",
    "print(len(fake_domains)+len(top_1m))\n",
    "print(len(data))"
   ]
  },
  {
   "cell_type": "markdown",
   "metadata": {},
   "source": [
    "2. Feature Engineering and Visualization"
   ]
  },
  {
   "cell_type": "code",
   "execution_count": 100,
   "metadata": {},
   "outputs": [],
   "source": [
    "import math\n",
    "from collections import Counter\n",
    "# import tldextract"
   ]
  },
  {
   "cell_type": "code",
   "execution_count": 101,
   "metadata": {},
   "outputs": [],
   "source": [
    "def entropy(domain_name):\n",
    "    \"\"\" Function which computes the entropy of a given domain name based on it's chars \"\"\"\n",
    "    elements, length = Counter(domain_name), len(domain_name)    \n",
    "    \n",
    "    return -sum(element/length * math.log(element/length, 2) for element in elements.values())"
   ]
  },
  {
   "cell_type": "code",
   "execution_count": 102,
   "metadata": {},
   "outputs": [],
   "source": [
    "data[\"length\"] = data[\"domain\"].apply(lambda domain: len(domain))\n",
    "data[\"entropy\"] = data[\"domain\"].apply(lambda domain: entropy(domain))"
   ]
  },
  {
   "cell_type": "code",
   "execution_count": 103,
   "metadata": {},
   "outputs": [],
   "source": [
    "import sklearn.feature_extraction as fe\n",
    "\n",
    "\n",
    "split_condition = data[\"label\"] == \"real\"\n",
    "legit = data[split_condition]\n",
    "# dga = data[~split_condition]"
   ]
  },
  {
   "cell_type": "code",
   "execution_count": 104,
   "metadata": {},
   "outputs": [],
   "source": [
    "alexa_vc = fe.text.CountVectorizer(analyzer=\"char\", ngram_range=(3,5), min_df=0.00001, max_df=1.0)\n",
    "counts_matrix = alexa_vc.fit_transform(legit[\"domain\"])"
   ]
  },
  {
   "cell_type": "code",
   "execution_count": 105,
   "metadata": {},
   "outputs": [],
   "source": [
    "alexa_counts = np.log10(np.asarray(counts_matrix.sum(axis=0)).flatten())\n",
    "data[\"alexa_grams\"] = alexa_counts * alexa_vc.transform(data[\"domain\"]).T"
   ]
  },
  {
   "cell_type": "code",
   "execution_count": 106,
   "metadata": {},
   "outputs": [],
   "source": [
    "# Adding another feature digit/char ration\n",
    "\n",
    "def ration(word):\n",
    "    l = len(word)\n",
    "    ch = 0\n",
    "    for w in word:\n",
    "        if w.isalpha():\n",
    "            ch+=1\n",
    "    return ch/l\n",
    "\n",
    "data[\"ration\"] = data[\"domain\"].apply(lambda domain: ration(domain))\n"
   ]
  },
  {
   "cell_type": "code",
   "execution_count": 107,
   "metadata": {},
   "outputs": [
    {
     "name": "stdout",
     "output_type": "stream",
     "text": [
      "            domain subclasses label rating  length   entropy  alexa_grams  \\\n",
      "0    vvqbhhwma.org     nymaim  fake   None      13  3.392747    35.073993   \n",
      "1    cfhauqbaz.com     nymaim  fake   None      13  3.392747    50.365824   \n",
      "2    bvxjsbkqu.biz     nymaim  fake   None      13  3.334679    21.710086   \n",
      "3  hggazskvkdy.com     nymaim  fake   None      15  3.640224    50.786285   \n",
      "4   xgoqyxgfgm.com     nymaim  fake   None      14  3.039149    37.869187   \n",
      "\n",
      "     ration  \n",
      "0  0.923077  \n",
      "1  0.923077  \n",
      "2  0.923077  \n",
      "3  0.933333  \n",
      "4  0.928571  \n"
     ]
    }
   ],
   "source": [
    "print(data.head())"
   ]
  },
  {
   "cell_type": "code",
   "execution_count": 108,
   "metadata": {},
   "outputs": [
    {
     "name": "stderr",
     "output_type": "stream",
     "text": [
      "C:\\ProgramData\\Anaconda3\\lib\\site-packages\\seaborn\\_decorators.py:36: FutureWarning: Pass the following variables as keyword args: x, y. From version 0.12, the only valid positional argument will be `data`, and passing other arguments without an explicit keyword will result in an error or misinterpretation.\n",
      "  warnings.warn(\n"
     ]
    },
    {
     "data": {
      "image/png": "[encoded data removed]",
      "text/plain": [
       "<Figure size 864x576 with 1 Axes>"
      ]
     },
     "metadata": {},
     "output_type": "display_data"
    }
   ],
   "source": [
    "import matplotlib.pyplot as plt\n",
    "import seaborn as sns\n",
    "\n",
    "sns.set_style(\"darkgrid\")\n",
    "plt.rcParams[\"figure.figsize\"] = (12,8)\n",
    "font = {\"size\"   : 11}\n",
    "\n",
    "plt.rc('font', **font)\n",
    "\n",
    "\n",
    "mean_entropy = data.groupby(\"label\")[\"entropy\"].agg(\"mean\")\n",
    "sns.barplot(mean_entropy.index, mean_entropy.values, palette=\"viridis\")\n",
    "\n",
    "plt.ylabel(\"Mean of Entropy\")\n",
    "plt.title(\"Mean of Entropy by class\")\n",
    "plt.show()"
   ]
  },
  {
   "cell_type": "markdown",
   "metadata": {},
   "source": []
  },
  {
   "cell_type": "code",
   "execution_count": 109,
   "metadata": {},
   "outputs": [
    {
     "data": {
      "text/plain": [
       "ParseResult(scheme='', netloc='', path='cfhauqbaz.com', params='', query='', fragment='')"
      ]
     },
     "execution_count": 109,
     "metadata": {},
     "output_type": "execute_result"
    }
   ],
   "source": [
    "# Creating TLD column\n",
    "from urllib.parse import urlparse\n",
    "urlparse(\"cfhauqbaz.com\")\n",
    "#Not very useful"
   ]
  },
  {
   "cell_type": "markdown",
   "metadata": {},
   "source": [
    "3. Create Machine Learnings Models"
   ]
  },
  {
   "cell_type": "markdown",
   "metadata": {},
   "source": [
    "Model"
   ]
  },
  {
   "cell_type": "code",
   "execution_count": 110,
   "metadata": {},
   "outputs": [],
   "source": [
    "from sklearn.model_selection import train_test_split\n",
    "import lightgbm as lgb\n",
    "from sklearn.metrics import f1_score\n",
    "from sklearn.preprocessing import LabelEncoder"
   ]
  },
  {
   "cell_type": "code",
   "execution_count": 111,
   "metadata": {},
   "outputs": [],
   "source": [
    "def get_ration(X,y):\n",
    "    X_train, X_test, y_train, y_test = train_test_split(X, y, train_size=0.8, test_size=0.2, shuffle=True, stratify=y)\n",
    "    lb = LabelEncoder()\n",
    "\n",
    "    y_train = lb.fit_transform(y_train)\n",
    "    y_test = lb.transform(y_test)\n",
    "\n",
    "    lgb_clf = lgb.LGBMClassifier()\n",
    "\n",
    "    lgb_clf.fit(X_train, y_train)\n",
    "    y_pred = lgb_clf.predict(X_test)\n",
    "    print(\"Evaluation f1 score metric is {}%\".format(round(f1_score(y_test, y_pred) * 100), 2))"
   ]
  },
  {
   "cell_type": "code",
   "execution_count": 112,
   "metadata": {},
   "outputs": [
    {
     "name": "stdout",
     "output_type": "stream",
     "text": [
      "Evaluation f1 score metric is 72%\n"
     ]
    }
   ],
   "source": [
    "get_ration(data[[\"length\", \"entropy\"]], data[\"label\"])"
   ]
  },
  {
   "cell_type": "code",
   "execution_count": 113,
   "metadata": {},
   "outputs": [
    {
     "name": "stdout",
     "output_type": "stream",
     "text": [
      "Evaluation f1 score metric is 93%\n"
     ]
    }
   ],
   "source": [
    "get_ration(data[[\"length\", \"entropy\", \"alexa_grams\"]], data[\"label\"])"
   ]
  },
  {
   "cell_type": "code",
   "execution_count": 114,
   "metadata": {},
   "outputs": [
    {
     "name": "stdout",
     "output_type": "stream",
     "text": [
      "Evaluation f1 score metric is 95%\n"
     ]
    }
   ],
   "source": [
    "get_ration(data[[\"length\", \"entropy\", \"alexa_grams\", \"ration\"]], data[\"label\"])"
   ]
  },
  {
   "cell_type": "code",
   "execution_count": 115,
   "metadata": {},
   "outputs": [],
   "source": []
  },
  {
   "cell_type": "markdown",
   "metadata": {},
   "source": [
    "4. Operationalize ML"
   ]
  },
  {
   "cell_type": "markdown",
   "metadata": {},
   "source": [
    "5. Test and Benchmark"
   ]
  }
 ],
 "metadata": {
  "interpreter": {
   "hash": "b3ba2566441a7c06988d0923437866b63cedc61552a5af99d1f4fb67d367b25f"
  },
  "kernelspec": {
   "display_name": "Python 3.8.11 64-bit ('base': conda)",
   "name": "python3"
  },
  "language_info": {
   "codemirror_mode": {
    "name": "ipython",
    "version": 3
   },
   "file_extension": ".py",
   "mimetype": "text/x-python",
   "name": "python",
   "nbconvert_exporter": "python",
   "pygments_lexer": "ipython3",
   "version": "3.8.11"
  },
  "orig_nbformat": 4
 },
 "nbformat": 4,
 "nbformat_minor": 2
}
